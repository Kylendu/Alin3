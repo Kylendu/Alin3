{
 "cells": [
  {
   "cell_type": "markdown",
   "metadata": {
    "id": "Sf7Sz089hlPa"
   },
   "source": [
    "# Matrik Invers\n",
    "Suatu matrik jika dikalikan dengan kebalikannya, maka hasilnya adalah I (Matrik Identitas).\\\n",
    "Misal :\n",
    "$$\n",
    "AA^{-1}=A^{-1}A=\\begin{bmatrix}\n",
    "1 & 0\\\\\n",
    "0 & 1\n",
    "\\end{bmatrix}\n",
    "$$\n",
    "\n",
    "Rumus untuk  mencari invers matrik.\n",
    "$$\n",
    "A=\\begin{bmatrix}\n",
    "a & b\\\\\n",
    "c & d\n",
    "\\end{bmatrix}\n",
    "$$\\\n",
    "$$\n",
    "A^{-1} = \\frac{1}{\\det{\\left(A\\right)}} \\left[\\begin{matrix}d&-b\\\\-c&a\\\\\\end{matrix}\\right]$$\n",
    "\n",
    "$$\n",
    "A^{-1} = \\frac{1}{ad-bc} \\left[\\begin{matrix}d&-b\\\\-c&a\\\\\\end{matrix}\\right]$$\n",
    "\n",
    "## Sifat-sifat matrik invers\n",
    "\n",
    "1. $(A^{-1})^{-1} = A$\n",
    "2. $A^n$ invertibel dan $(A^n)^{-1} = (A^{-1})^n$\n",
    "3. $kA$ adalah matriks invertibel dan $(kA)^{-1} = (\\frac{1}{k})A^{-1}$\n",
    "4. $A^T$ invertibel dan $(A^T)^{-1} = (A^{-1})^T$\n",
    "5. $A$ dan $B$ keduanya matriks invertibel, maka $AB$ invertibel dan $(AB)^{-1} = B^{-1}A^{-1}$\n",
    "\n"
   ]
  },
  {
   "cell_type": "markdown",
   "metadata": {
    "id": "-25RVcu-vNdn"
   },
   "source": [
    "## Solusi persamaan sistem linier dengan matrik invers\n",
    "\n",
    "Sistem persamaan linier\n",
    "\n",
    "$2x+3y=6$\n",
    "\n",
    "$4x+5y=11$\n",
    "\n",
    "Ubah dalam persamaan matrik\n",
    "\n",
    "$$\n",
    "\\begin{bmatrix}\n",
    "2 & 3\\\\\n",
    "4 & 5\n",
    "\\end{bmatrix}\n",
    "\\begin{bmatrix}\n",
    "x\\\\\n",
    "y\n",
    "\\end{bmatrix}=\n",
    "\\begin{bmatrix}\n",
    "6\\\\\n",
    "11\n",
    "\\end{bmatrix}\n",
    "$$\n",
    "\n",
    "Langkah pertama\n",
    "\n",
    "$$\n",
    "\\begin{bmatrix}\n",
    "x\\\\\n",
    "y\n",
    "\\end{bmatrix}=\n",
    "\\begin{bmatrix}\n",
    "2 & 3\\\\\n",
    "4 & 5\n",
    "\\end{bmatrix}^{-1}\n",
    "\\begin{bmatrix}\n",
    "6\\\\\n",
    "11\n",
    "\\end{bmatrix}\n",
    "$$\n",
    "\n",
    "Langkah ke-dua\n",
    "\n",
    "$$\n",
    "\\begin{bmatrix}\n",
    "x\\\\\n",
    "y\n",
    "\\end{bmatrix}\n",
    "=\\frac{1}{-2}\\begin{bmatrix}\n",
    "5 & -3\\\\\n",
    "-4 & 2\n",
    "\\end{bmatrix}\n",
    "\\begin{bmatrix}\n",
    "6\\\\\n",
    "11\n",
    "\\end{bmatrix}\n",
    "$$\n",
    "\n",
    "Langkah ke-tiga\n",
    "\n",
    "$$\n",
    "\\begin{bmatrix}\n",
    "x\\\\\n",
    "y\n",
    "\\end{bmatrix}\n",
    "=\\frac{1}{-2}\\begin{bmatrix}\n",
    "-3\\\\\n",
    "-2\n",
    "\\end{bmatrix}\n",
    "$$\n",
    "\n",
    "Langkah ke-empat\n",
    "\n",
    "$$\n",
    "\\begin{bmatrix}\n",
    "x\\\\\n",
    "y\n",
    "\\end{bmatrix}=\n",
    "\\begin{bmatrix}\n",
    "1.5\\\\\n",
    "1\n",
    "\\end{bmatrix}\n",
    "$$"
   ]
  },
  {
   "cell_type": "code",
   "execution_count": 1,
   "metadata": {
    "colab": {
     "base_uri": "https://localhost:8080/"
    },
    "executionInfo": {
     "elapsed": 32,
     "status": "ok",
     "timestamp": 1711909233750,
     "user": {
      "displayName": "23-009 RIZAL FADILLAH",
      "userId": "10962448362425171449"
     },
     "user_tz": -420
    },
    "id": "zMJcbfkOvVz5",
    "metadata": {},
    "outputId": "08574ba0-3d11-49bf-8512-4b512d3030fa"
   },
   "outputs": [
    {
     "name": "stdout",
     "output_type": "stream",
     "text": [
      "[[1.5]\n",
      " [1. ]]\n"
     ]
    }
   ],
   "source": [
    "import numpy as np\n",
    "A = np.array([[2, 3], [4, 5]])\n",
    "Ai = np.linalg.inv(A) # menghitung inverse A\n",
    "b = np.array([[6], [11]])\n",
    "q = np.dot(Ai, b)\n",
    "print(q)\n",
    "\n",
    "\n"
   ]
  },
  {
   "cell_type": "markdown",
   "metadata": {
    "id": "k5l2uN_TvTEj"
   },
   "source": [
    "## Mencari matriks invers dengan eliminasi gauss jordan\n",
    "\n",
    "Contoh mencari invers dengan eliminasi gauss jordan menggunakan matriks dengan ordo 3x3\n",
    "\n",
    "Contoh soal $$A = \\begin{bmatrix}\n",
    "1 & 2 & 3\\\\\n",
    "0 & 1 & 4 \\\\\n",
    "5 & 6 & 0\n",
    "\\end{bmatrix}$$\n",
    "\n",
    "$$I = \\begin{bmatrix}\n",
    "1 & 0 & 0\\\\\n",
    "0 & 1 & 0 \\\\\n",
    "0 & 0 & 1\n",
    "\\end{bmatrix}$$\n",
    "\n",
    "Kemudian gunakan gauss jordan elimination\n",
    "$$A = \\begin{bmatrix}\n",
    "1 & 2 & 3|1 & 0 & 0\\\\\n",
    "0 & 1 & 4|0 & 1 & 0  \\\\\n",
    "5 & 6 & 0|0 & 0 & 1\n",
    "\\end{bmatrix}$$\n",
    "\n",
    "untuk mencari invers, gimana caranya matriks identitasnya bisa ada disebelah kiri, terserah baris berapa mau di tambahin/dikurangin/dikali/dibagi dengan baris manapun.\n",
    "\n",
    "Kita kalikan baris pertama dengan 5 kemudian dikurangi baris ketiga\n",
    "$$A = \\begin{bmatrix}\n",
    "1 & 2 & 3|1 & 0 & 0\\\\\n",
    "0 & 1 & 4|0 & 1 & 0  \\\\\n",
    "0 & -4 & -15|-5 & 0 & 1\n",
    "\\end{bmatrix}$$\n",
    "\n",
    "dari matriks diatas, kita tambahkan baris ke tiga dengan 4 kali baris kedua\n",
    "$$A = \\begin{bmatrix}\n",
    "1 & 2 & 3|1 & 0 & 0\\\\\n",
    "0 & 1 & 4|0 & 1 & 0  \\\\\n",
    "0 & 0 & 1|-5 & 4 & 1\n",
    "\\end{bmatrix}$$\n",
    "\n",
    "selanjutnya kita kurangkan baris kedua dengan 4 kali baris ketiga\n",
    "dan kita kurangkan juga baris pertama dengan 3 kali baris ketiga\n",
    "$$A = \\begin{bmatrix}\n",
    "1 & 2 & 0|16 & -12 & -3\\\\\n",
    "0 & 1 & 0|20 & -15 & -4  \\\\\n",
    "0 & 0 & 1|-5 & 4 & 1\n",
    "\\end{bmatrix}$$\n",
    "\n",
    "langkah terakhir kita tinggal kurangkan baris pertama dengan 2x baris kedua.hasilnya :\n",
    "$$A = \\begin{bmatrix}\n",
    "1 & 0 & 0|-24 & 18 & 5\\\\\n",
    "0 & 1 & 0|20 & -15 & -4  \\\\\n",
    "0 & 0 & 1|-5 & 4 & 1\n",
    "\\end{bmatrix}$$\n",
    "\n",
    "nah yang ada disebelah kanan adalah invers dari matrik A. \n",
    "jadi invers matriknya \n",
    "\n",
    "$$A^{-1} = \\begin{bmatrix}\n",
    "-24 & 18 & 5\\\\\n",
    "20 & -15 & -4  \\\\\n",
    "-5 & 4 & 1\n",
    "\\end{bmatrix}$$"
   ]
  },
  {
   "cell_type": "markdown",
   "metadata": {},
   "source": [
    "## Membuat soal sistem persamaan linier 6 variable\n"
   ]
  },
  {
   "cell_type": "code",
   "execution_count": 2,
   "metadata": {
    "metadata": {}
   },
   "outputs": [],
   "source": [
    "import numpy as np\n",
    "\n",
    "def RowSwap(A,k,l):\n",
    "# =============================================================================\n",
    "#     A is a NumPy array.  RowSwap will return duplicate array with rows\n",
    "#     k and l swapped.\n",
    "# =============================================================================\n",
    "    m = A.shape[0]  # m is number of rows in A\n",
    "    n = A.shape[1]  # n is number of columns in A\n",
    "\n",
    "    B = np.copy(A).astype('float64')\n",
    "\n",
    "    for j in range(n):\n",
    "        temp = B[k][j]\n",
    "        B[k][j] = B[l][j]\n",
    "        B[l][j] = temp\n",
    "\n",
    "    return B\n",
    "\n",
    "def RowScale(A,k,scale):\n",
    "# =============================================================================\n",
    "#     A is a NumPy array.  RowScale will return duplicate array with the\n",
    "#     entries of row k multiplied by scale.\n",
    "# =============================================================================\n",
    "    m = A.shape[0]  # m is number of rows in A\n",
    "    n = A.shape[1]  # n is number of columns in A\n",
    "\n",
    "    B = np.copy(A).astype('float64')\n",
    "\n",
    "    for j in range(n):\n",
    "        B[k][j] *= scale\n",
    "\n",
    "    return B\n",
    "\n",
    "def RowAdd(A,k,l,scale):\n",
    "# =============================================================================\n",
    "#     A is a numpy array.  RowAdd will return duplicate array with row\n",
    "#     l modifed.  The new values will be the old values of row l added to\n",
    "#     the values of row k, multiplied by scale.\n",
    "# =============================================================================\n",
    "    m = A.shape[0]  # m is number of rows in A\n",
    "    n = A.shape[1]  # n is number of columns in A\n",
    "\n",
    "    B = np.copy(A).astype('float64')\n",
    "\n",
    "    for j in range(n):\n",
    "        B[l][j] += B[k][j]*scale\n",
    "\n",
    "    return B"
   ]
  },
  {
   "cell_type": "code",
   "execution_count": 3,
   "metadata": {
    "metadata": {}
   },
   "outputs": [
    {
     "name": "stdout",
     "output_type": "stream",
     "text": [
      "[[1 2 3 1 0 0]\n",
      " [0 1 4 0 1 0]\n",
      " [5 6 0 0 0 1]]\n"
     ]
    }
   ],
   "source": [
    "a = np.array([[1,2,3,1,0,0],[0,1,4,0,1,0],[5,6,0,0,0,1]])\n",
    "print(a)"
   ]
  },
  {
   "cell_type": "code",
   "execution_count": 4,
   "metadata": {
    "metadata": {}
   },
   "outputs": [
    {
     "name": "stdout",
     "output_type": "stream",
     "text": [
      "[[  1.   2.   3.   1.   0.   0.]\n",
      " [  0.   1.   4.   0.   1.   0.]\n",
      " [  0.  -4. -15.  -5.   0.   1.]]\n"
     ]
    }
   ],
   "source": [
    "b = RowAdd(a,0,2,-5)\n",
    "print(b)"
   ]
  },
  {
   "cell_type": "code",
   "execution_count": 5,
   "metadata": {
    "metadata": {}
   },
   "outputs": [
    {
     "name": "stdout",
     "output_type": "stream",
     "text": [
      "[[ 1.  2.  3.  1.  0.  0.]\n",
      " [ 0.  1.  4.  0.  1.  0.]\n",
      " [ 0.  0.  1. -5.  4.  1.]]\n"
     ]
    }
   ],
   "source": [
    "c = RowAdd(b,1,2,4)\n",
    "print(c)"
   ]
  },
  {
   "cell_type": "code",
   "execution_count": 6,
   "metadata": {
    "metadata": {}
   },
   "outputs": [
    {
     "name": "stdout",
     "output_type": "stream",
     "text": [
      "[[  1.   2.   3.   1.   0.   0.]\n",
      " [  0.   1.   0.  20. -15.  -4.]\n",
      " [  0.   0.   1.  -5.   4.   1.]]\n"
     ]
    }
   ],
   "source": [
    "d = RowAdd(c,2,1,-4)\n",
    "print(d)"
   ]
  },
  {
   "cell_type": "code",
   "execution_count": 7,
   "metadata": {
    "metadata": {}
   },
   "outputs": [
    {
     "name": "stdout",
     "output_type": "stream",
     "text": [
      "[[  1.   2.   0.  16. -12.  -3.]\n",
      " [  0.   1.   0.  20. -15.  -4.]\n",
      " [  0.   0.   1.  -5.   4.   1.]]\n"
     ]
    }
   ],
   "source": [
    "e = RowAdd(d,2,0,-3)\n",
    "print(e)"
   ]
  },
  {
   "cell_type": "code",
   "execution_count": 8,
   "metadata": {
    "metadata": {}
   },
   "outputs": [
    {
     "name": "stdout",
     "output_type": "stream",
     "text": [
      "[[  1.   0.   0. -24.  18.   5.]\n",
      " [  0.   1.   0.  20. -15.  -4.]\n",
      " [  0.   0.   1.  -5.   4.   1.]]\n"
     ]
    }
   ],
   "source": [
    "f = RowAdd(e,1,0,-2)\n",
    "print(f)"
   ]
  },
  {
   "cell_type": "code",
   "execution_count": 9,
   "metadata": {
    "metadata": {}
   },
   "outputs": [
    {
     "name": "stdout",
     "output_type": "stream",
     "text": [
      "[[-24  18   5]\n",
      " [ 20 -15  -4]\n",
      " [ -5   4   1]]\n"
     ]
    }
   ],
   "source": [
    "g = np.array([[-24,18,5],[20,-15,-4],[-5,4,1]])\n",
    "print(g)"
   ]
  },
  {
   "cell_type": "markdown",
   "metadata": {},
   "source": [
    "\n",
    "## Membuat soal persamaan linear 6 variable\n",
    "\n",
    "Soal :\n",
    "\n",
    "\n",
    "$x_1+x_2+x_3+2x_4+x_5+2x_6=14$\n",
    "\n",
    "$2x_1+3x_2+x_3+x_4+4x_5+2x_6=23$\n",
    "\n",
    "$x_1+3x_2+2x_3+2x_4+4x_5+x_6=21$\n",
    "\n",
    "$x_1+x_2+x_3+x_4+x_5+x_6=11$\n",
    "\n",
    "$3x_1+3x_2+3x_3+2x_4+4x_5+x_6=29$\n",
    "\n",
    "$2x_1+x_2+3x_3+2x_4+4x_5+x_6=22$\n"
   ]
  },
  {
   "cell_type": "code",
   "execution_count": 10,
   "metadata": {
    "metadata": {}
   },
   "outputs": [],
   "source": [
    "import numpy as np\n",
    "\n",
    "def RowSwap(A,k,l):\n",
    "# =============================================================================\n",
    "#     A is a NumPy array.  RowSwap will return duplicate array with rows\n",
    "#     k and l swapped.\n",
    "# =============================================================================\n",
    "    m = A.shape[0]  # m is number of rows in A\n",
    "    n = A.shape[1]  # n is number of columns in A\n",
    "\n",
    "    B = np.copy(A).astype('float64')\n",
    "\n",
    "    for j in range(n):\n",
    "        temp = B[k][j]\n",
    "        B[k][j] = B[l][j]\n",
    "        B[l][j] = temp\n",
    "\n",
    "    return B\n",
    "\n",
    "def RowScale(A,k,scale):\n",
    "# =============================================================================\n",
    "#     A is a NumPy array.  RowScale will return duplicate array with the\n",
    "#     entries of row k multiplied by scale.\n",
    "# =============================================================================\n",
    "    m = A.shape[0]  # m is number of rows in A\n",
    "    n = A.shape[1]  # n is number of columns in A\n",
    "\n",
    "    B = np.copy(A).astype('float64')\n",
    "\n",
    "    for j in range(n):\n",
    "        B[k][j] *= scale\n",
    "\n",
    "    return B\n",
    "\n",
    "def RowAdd(A,k,l,scale):\n",
    "# =============================================================================\n",
    "#     A is a numpy array.  RowAdd will return duplicate array with row\n",
    "#     l modifed.  The new values will be the old values of row l added to\n",
    "#     the values of row k, multiplied by scale.\n",
    "# =============================================================================\n",
    "    m = A.shape[0]  # m is number of rows in A\n",
    "    n = A.shape[1]  # n is number of columns in A\n",
    "\n",
    "    B = np.copy(A).astype('float64')\n",
    "\n",
    "    for j in range(n):\n",
    "        B[l][j] += B[k][j]*scale\n",
    "\n",
    "    return B"
   ]
  },
  {
   "cell_type": "code",
   "execution_count": 11,
   "metadata": {
    "metadata": {}
   },
   "outputs": [
    {
     "name": "stdout",
     "output_type": "stream",
     "text": [
      "[[1 1 1 2 1 2 1 0 0 0 0 0]\n",
      " [2 3 1 1 4 2 0 1 0 0 0 0]\n",
      " [1 3 2 2 4 1 0 0 1 0 0 0]\n",
      " [1 1 1 1 1 1 0 0 0 1 0 0]\n",
      " [3 3 3 2 4 1 0 0 0 0 1 0]\n",
      " [2 1 3 2 4 1 0 0 0 0 0 1]]\n"
     ]
    }
   ],
   "source": [
    "matrik = np.array([[1,1,1,2,1,2,1,0,0,0,0,0],[2,3,1,1,4,2,0,1,0,0,0,0],[1,3,2,2,4,1,0,0,1,0,0,0],[1,1,1,1,1,1,0,0,0,1,0,0],[3,3,3,2,4,1,0,0,0,0,1,0],[2,1,3,2,4,1,0,0,0,0,0,1]])\n",
    "print(matrik)"
   ]
  },
  {
   "cell_type": "code",
   "execution_count": 12,
   "metadata": {
    "metadata": {}
   },
   "outputs": [],
   "source": [
    "# a = np.array([[1,1,1,2,1,2],[2,3,1,1,4,2],[1,3,2,2,4,1],[1,1,1,1,1,1],[3,3,3,2,4,1],[2,1,3,2,4,1]])\n",
    "# print(a)"
   ]
  },
  {
   "cell_type": "code",
   "execution_count": 13,
   "metadata": {
    "metadata": {}
   },
   "outputs": [
    {
     "name": "stdout",
     "output_type": "stream",
     "text": [
      "[[ 0.  0.  0.  1.  0.  1.  1.  0.  0. -1.  0.  0.]\n",
      " [ 2.  3.  1.  1.  4.  2.  0.  1.  0.  0.  0.  0.]\n",
      " [ 1.  3.  2.  2.  4.  1.  0.  0.  1.  0.  0.  0.]\n",
      " [ 1.  1.  1.  1.  1.  1.  0.  0.  0.  1.  0.  0.]\n",
      " [ 3.  3.  3.  2.  4.  1.  0.  0.  0.  0.  1.  0.]\n",
      " [ 2.  1.  3.  2.  4.  1.  0.  0.  0.  0.  0.  1.]]\n"
     ]
    }
   ],
   "source": [
    "b = RowAdd(matrik,3,0,-1)\n",
    "print(b)"
   ]
  },
  {
   "cell_type": "code",
   "execution_count": 14,
   "metadata": {
    "metadata": {}
   },
   "outputs": [
    {
     "name": "stdout",
     "output_type": "stream",
     "text": [
      "[[ 0.  0.  0.  1.  0.  1.  1.  0.  0. -1.  0.  0.]\n",
      " [ 2.  3.  1.  1.  4.  2.  0.  1.  0.  0.  0.  0.]\n",
      " [ 1.  3.  2.  2.  4.  1.  0.  0.  1.  0.  0.  0.]\n",
      " [ 1.  1.  1.  1.  1.  1.  0.  0.  0.  1.  0.  0.]\n",
      " [ 1.  0.  2.  1.  0. -1.  0. -1.  0.  0.  1.  0.]\n",
      " [ 2.  1.  3.  2.  4.  1.  0.  0.  0.  0.  0.  1.]]\n"
     ]
    }
   ],
   "source": [
    "c = RowAdd(b,1,4,-1)\n",
    "print(c)"
   ]
  },
  {
   "cell_type": "code",
   "execution_count": 15,
   "metadata": {
    "metadata": {}
   },
   "outputs": [
    {
     "name": "stdout",
     "output_type": "stream",
     "text": [
      "[[ 1.  0.  2.  1.  0. -1.  0. -1.  0.  0.  1.  0.]\n",
      " [ 2.  3.  1.  1.  4.  2.  0.  1.  0.  0.  0.  0.]\n",
      " [ 1.  3.  2.  2.  4.  1.  0.  0.  1.  0.  0.  0.]\n",
      " [ 1.  1.  1.  1.  1.  1.  0.  0.  0.  1.  0.  0.]\n",
      " [ 0.  0.  0.  1.  0.  1.  1.  0.  0. -1.  0.  0.]\n",
      " [ 2.  1.  3.  2.  4.  1.  0.  0.  0.  0.  0.  1.]]\n"
     ]
    }
   ],
   "source": [
    "d = RowSwap(c,4,0)\n",
    "print(d)"
   ]
  },
  {
   "cell_type": "code",
   "execution_count": 16,
   "metadata": {
    "metadata": {}
   },
   "outputs": [
    {
     "name": "stdout",
     "output_type": "stream",
     "text": [
      "[[ 1.  0.  2.  1.  0. -1.  0. -1.  0.  0.  1.  0.]\n",
      " [ 2.  3.  1.  1.  4.  2.  0.  1.  0.  0.  0.  0.]\n",
      " [ 1.  3.  2.  2.  4.  1.  0.  0.  1.  0.  0.  0.]\n",
      " [ 0.  0.  0.  1.  0.  1.  1.  0.  0. -1.  0.  0.]\n",
      " [ 1.  1.  1.  1.  1.  1.  0.  0.  0.  1.  0.  0.]\n",
      " [ 2.  1.  3.  2.  4.  1.  0.  0.  0.  0.  0.  1.]]\n"
     ]
    }
   ],
   "source": [
    "e = RowSwap(d,4,3)\n",
    "print(e)"
   ]
  },
  {
   "cell_type": "code",
   "execution_count": 17,
   "metadata": {
    "metadata": {}
   },
   "outputs": [
    {
     "name": "stdout",
     "output_type": "stream",
     "text": [
      "[[ 1.  0.  2.  1.  0. -1.  0. -1.  0.  0.  1.  0.]\n",
      " [ 2.  3.  1. -1.  4.  0. -2.  1.  0.  2.  0.  0.]\n",
      " [ 1.  3.  2.  2.  4.  1.  0.  0.  1.  0.  0.  0.]\n",
      " [ 0.  0.  0.  1.  0.  1.  1.  0.  0. -1.  0.  0.]\n",
      " [ 1.  1.  1.  1.  1.  1.  0.  0.  0.  1.  0.  0.]\n",
      " [ 2.  1.  3.  2.  4.  1.  0.  0.  0.  0.  0.  1.]]\n"
     ]
    }
   ],
   "source": [
    "f = RowAdd(e,3,1,-2)\n",
    "print(f)"
   ]
  },
  {
   "cell_type": "code",
   "execution_count": 18,
   "metadata": {
    "metadata": {}
   },
   "outputs": [
    {
     "name": "stdout",
     "output_type": "stream",
     "text": [
      "[[ 1.  0.  2.  1.  0. -1.  0. -1.  0.  0.  1.  0.]\n",
      " [ 2.  3.  1. -1.  4.  0. -2.  1.  0.  2.  0.  0.]\n",
      " [ 1.  3.  2.  2.  4.  1.  0.  0.  1.  0.  0.  0.]\n",
      " [ 0.  0.  0.  1.  0.  1.  1.  0.  0. -1.  0.  0.]\n",
      " [ 1.  1.  1.  0.  1.  0. -1.  0.  0.  2.  0.  0.]\n",
      " [ 2.  1.  3.  2.  4.  1.  0.  0.  0.  0.  0.  1.]]\n"
     ]
    }
   ],
   "source": [
    "g = RowAdd(f,3,4,-1)\n",
    "print(g)"
   ]
  },
  {
   "cell_type": "code",
   "execution_count": 19,
   "metadata": {
    "metadata": {}
   },
   "outputs": [
    {
     "name": "stdout",
     "output_type": "stream",
     "text": [
      "[[ 1.  0.  2.  1.  0. -1.  0. -1.  0.  0.  1.  0.]\n",
      " [ 0.  1. -1. -1.  2.  0.  0.  1.  0. -2.  0.  0.]\n",
      " [ 1.  3.  2.  2.  4.  1.  0.  0.  1.  0.  0.  0.]\n",
      " [ 0.  0.  0.  1.  0.  1.  1.  0.  0. -1.  0.  0.]\n",
      " [ 1.  1.  1.  0.  1.  0. -1.  0.  0.  2.  0.  0.]\n",
      " [ 2.  1.  3.  2.  4.  1.  0.  0.  0.  0.  0.  1.]]\n"
     ]
    }
   ],
   "source": [
    "h = RowAdd(g,4,1,-2)\n",
    "print(h)"
   ]
  },
  {
   "cell_type": "code",
   "execution_count": 20,
   "metadata": {
    "metadata": {}
   },
   "outputs": [
    {
     "name": "stdout",
     "output_type": "stream",
     "text": [
      "[[ 1.  0.  2.  1.  0. -1.  0. -1.  0.  0.  1.  0.]\n",
      " [ 0.  1. -1. -1.  2.  0.  0.  1.  0. -2.  0.  0.]\n",
      " [ 0.  2.  1.  2.  3.  1.  1.  0.  1. -2.  0.  0.]\n",
      " [ 0.  0.  0.  1.  0.  1.  1.  0.  0. -1.  0.  0.]\n",
      " [ 1.  1.  1.  0.  1.  0. -1.  0.  0.  2.  0.  0.]\n",
      " [ 2.  1.  3.  2.  4.  1.  0.  0.  0.  0.  0.  1.]]\n"
     ]
    }
   ],
   "source": [
    "i = RowAdd(h,4,2,-1)\n",
    "print(i)"
   ]
  },
  {
   "cell_type": "code",
   "execution_count": 21,
   "metadata": {
    "metadata": {}
   },
   "outputs": [
    {
     "name": "stdout",
     "output_type": "stream",
     "text": [
      "[[ 1.  0.  2.  1.  0. -1.  0. -1.  0.  0.  1.  0.]\n",
      " [ 0.  1. -1. -1.  2.  0.  0.  1.  0. -2.  0.  0.]\n",
      " [ 0.  2.  1.  2.  3.  1.  1.  0.  1. -2.  0.  0.]\n",
      " [ 0.  0.  0.  1.  0.  1.  1.  0.  0. -1.  0.  0.]\n",
      " [ 1.  1.  1.  0.  1.  0. -1.  0.  0.  2.  0.  0.]\n",
      " [ 1.  1.  1.  1.  4.  2.  0.  1.  0.  0. -1.  1.]]\n"
     ]
    }
   ],
   "source": [
    "j = RowAdd(i,0,5,-1)\n",
    "print(j)"
   ]
  },
  {
   "cell_type": "code",
   "execution_count": 22,
   "metadata": {
    "metadata": {}
   },
   "outputs": [
    {
     "name": "stdout",
     "output_type": "stream",
     "text": [
      "[[ 1.  0.  2.  1.  0. -1.  0. -1.  0.  0.  1.  0.]\n",
      " [ 0.  1. -1. -1.  2.  0.  0.  1.  0. -2.  0.  0.]\n",
      " [ 0.  2.  1.  2.  3.  1.  1.  0.  1. -2.  0.  0.]\n",
      " [ 0.  0.  0.  1.  0.  1.  1.  0.  0. -1.  0.  0.]\n",
      " [ 1.  1.  1.  0.  1.  0. -1.  0.  0.  2.  0.  0.]\n",
      " [ 1.  1.  1.  0.  4.  1. -1.  1.  0.  1. -1.  1.]]\n"
     ]
    }
   ],
   "source": [
    "k = RowAdd(j,3,5,-1)\n",
    "print(k)"
   ]
  },
  {
   "cell_type": "code",
   "execution_count": 23,
   "metadata": {
    "metadata": {}
   },
   "outputs": [
    {
     "name": "stdout",
     "output_type": "stream",
     "text": [
      "[[ 1.  0.  2.  1.  0. -1.  0. -1.  0.  0.  1.  0.]\n",
      " [ 0.  1. -1. -1.  2.  0.  0.  1.  0. -2.  0.  0.]\n",
      " [ 0.  2.  1.  2.  3.  1.  1.  0.  1. -2.  0.  0.]\n",
      " [ 0.  0.  0.  1.  0.  1.  1.  0.  0. -1.  0.  0.]\n",
      " [ 1.  1.  1.  0.  1.  0. -1.  0.  0.  2.  0.  0.]\n",
      " [ 0.  0.  0.  0.  3.  1.  0.  1.  0. -1. -1.  1.]]\n"
     ]
    }
   ],
   "source": [
    "l = RowAdd(k,4,5,-1)\n",
    "print(l)"
   ]
  },
  {
   "cell_type": "code",
   "execution_count": 24,
   "metadata": {
    "metadata": {}
   },
   "outputs": [
    {
     "name": "stdout",
     "output_type": "stream",
     "text": [
      "[[ 1.  0.  2.  1.  0. -1.  0. -1.  0.  0.  1.  0.]\n",
      " [ 0.  1. -1. -1.  2.  0.  0.  1.  0. -2.  0.  0.]\n",
      " [ 0.  2.  1.  2.  0.  0.  1. -1.  1. -1.  1. -1.]\n",
      " [ 0.  0.  0.  1.  0.  1.  1.  0.  0. -1.  0.  0.]\n",
      " [ 1.  1.  1.  0.  1.  0. -1.  0.  0.  2.  0.  0.]\n",
      " [ 0.  0.  0.  0.  3.  1.  0.  1.  0. -1. -1.  1.]]\n"
     ]
    }
   ],
   "source": [
    "m = RowAdd(l,5,2,-1)\n",
    "print(m)"
   ]
  },
  {
   "cell_type": "code",
   "execution_count": 25,
   "metadata": {
    "metadata": {}
   },
   "outputs": [
    {
     "name": "stdout",
     "output_type": "stream",
     "text": [
      "[[ 1.  0.  2.  1.  0. -1.  0. -1.  0.  0.  1.  0.]\n",
      " [ 0.  1. -1. -1. -1. -1.  0.  0.  0. -1.  1. -1.]\n",
      " [ 0.  2.  1.  2.  0.  0.  1. -1.  1. -1.  1. -1.]\n",
      " [ 0.  0.  0.  1.  0.  1.  1.  0.  0. -1.  0.  0.]\n",
      " [ 1.  1.  1.  0.  1.  0. -1.  0.  0.  2.  0.  0.]\n",
      " [ 0.  0.  0.  0.  3.  1.  0.  1.  0. -1. -1.  1.]]\n"
     ]
    }
   ],
   "source": [
    "n = RowAdd(m,5,1,-1)\n",
    "print(n)"
   ]
  },
  {
   "cell_type": "code",
   "execution_count": 26,
   "metadata": {
    "metadata": {}
   },
   "outputs": [
    {
     "name": "stdout",
     "output_type": "stream",
     "text": [
      "[[ 1.  0.  2.  1.  0. -1.  0. -1.  0.  0.  1.  0.]\n",
      " [ 0.  1. -1. -1. -1. -1.  0.  0.  0. -1.  1. -1.]\n",
      " [ 0.  2.  1.  2.  0.  0.  1. -1.  1. -1.  1. -1.]\n",
      " [ 0.  0.  0.  1.  0.  1.  1.  0.  0. -1.  0.  0.]\n",
      " [ 0.  1. -1. -1.  1.  1. -1.  1.  0.  2. -1.  0.]\n",
      " [ 0.  0.  0.  0.  3.  1.  0.  1.  0. -1. -1.  1.]]\n"
     ]
    }
   ],
   "source": [
    "o = RowAdd(n,0,4,-1)\n",
    "print(o)"
   ]
  },
  {
   "cell_type": "code",
   "execution_count": 27,
   "metadata": {
    "metadata": {}
   },
   "outputs": [
    {
     "name": "stdout",
     "output_type": "stream",
     "text": [
      "[[ 1.  0.  2.  1.  0. -1.  0. -1.  0.  0.  1.  0.]\n",
      " [ 0.  1. -1. -1. -1. -1.  0.  0.  0. -1.  1. -1.]\n",
      " [ 0.  2.  1.  2.  0.  0.  1. -1.  1. -1.  1. -1.]\n",
      " [ 0.  0.  0.  1.  0.  1.  1.  0.  0. -1.  0.  0.]\n",
      " [ 0.  0.  0.  0.  2.  2. -1.  1.  0.  3. -2.  1.]\n",
      " [ 0.  0.  0.  0.  3.  1.  0.  1.  0. -1. -1.  1.]]\n"
     ]
    }
   ],
   "source": [
    "p = RowAdd(o,1,4,-1)\n",
    "print(p)"
   ]
  },
  {
   "cell_type": "code",
   "execution_count": 28,
   "metadata": {
    "metadata": {}
   },
   "outputs": [
    {
     "name": "stdout",
     "output_type": "stream",
     "text": [
      "[[ 1.  0.  2.  1.  0. -1.  0. -1.  0.  0.  1.  0.]\n",
      " [ 0.  1. -1. -1. -1. -1.  0.  0.  0. -1.  1. -1.]\n",
      " [ 0.  0.  3.  4.  2.  2.  1. -1.  1.  1. -1.  1.]\n",
      " [ 0.  0.  0.  1.  0.  1.  1.  0.  0. -1.  0.  0.]\n",
      " [ 0.  0.  0.  0.  2.  2. -1.  1.  0.  3. -2.  1.]\n",
      " [ 0.  0.  0.  0.  3.  1.  0.  1.  0. -1. -1.  1.]]\n"
     ]
    }
   ],
   "source": [
    "q = RowAdd(p,1,2,-2)\n",
    "print(q)"
   ]
  },
  {
   "cell_type": "code",
   "execution_count": 29,
   "metadata": {
    "metadata": {}
   },
   "outputs": [
    {
     "name": "stdout",
     "output_type": "stream",
     "text": [
      "[[ 1.  0.  2.  1.  0. -1.  0. -1.  0.  0.  1.  0.]\n",
      " [ 0.  1. -1. -1. -1. -1.  0.  0.  0. -1.  1. -1.]\n",
      " [ 0.  0.  3.  4.  2.  2.  1. -1.  1.  1. -1.  1.]\n",
      " [ 0.  0.  0.  1.  0.  1.  1.  0.  0. -1.  0.  0.]\n",
      " [ 0.  0.  0.  0.  2.  2. -1.  1.  0.  3. -2.  1.]\n",
      " [ 0.  0.  0.  0.  6.  2.  0.  2.  0. -2. -2.  2.]]\n"
     ]
    }
   ],
   "source": [
    "r = RowScale(q,5,2)\n",
    "print(r)"
   ]
  },
  {
   "cell_type": "code",
   "execution_count": 30,
   "metadata": {
    "metadata": {}
   },
   "outputs": [
    {
     "name": "stdout",
     "output_type": "stream",
     "text": [
      "[[  1.   0.   2.   1.   0.  -1.   0.  -1.   0.   0.   1.   0.]\n",
      " [  0.   1.  -1.  -1.  -1.  -1.   0.   0.   0.  -1.   1.  -1.]\n",
      " [  0.   0.   3.   4.   2.   2.   1.  -1.   1.   1.  -1.   1.]\n",
      " [  0.   0.   0.   1.   0.   1.   1.   0.   0.  -1.   0.   0.]\n",
      " [  0.   0.   0.   0.   2.   2.  -1.   1.   0.   3.  -2.   1.]\n",
      " [  0.   0.   0.   0.   0.  -4.   3.  -1.   0. -11.   4.  -1.]]\n"
     ]
    }
   ],
   "source": [
    "s = RowAdd(r,4,5,-3)\n",
    "print(s)"
   ]
  },
  {
   "cell_type": "code",
   "execution_count": 31,
   "metadata": {
    "metadata": {}
   },
   "outputs": [
    {
     "name": "stdout",
     "output_type": "stream",
     "text": [
      "[[ 1.    0.    2.    1.    0.   -1.    0.   -1.    0.    0.    1.    0.  ]\n",
      " [ 0.    1.   -1.   -1.   -1.   -1.    0.    0.    0.   -1.    1.   -1.  ]\n",
      " [ 0.    0.    3.    4.    2.    2.    1.   -1.    1.    1.   -1.    1.  ]\n",
      " [ 0.    0.    0.    1.    0.    1.    1.    0.    0.   -1.    0.    0.  ]\n",
      " [ 0.    0.    0.    0.    2.    2.   -1.    1.    0.    3.   -2.    1.  ]\n",
      " [-0.   -0.   -0.   -0.   -0.    1.   -0.75  0.25 -0.    2.75 -1.    0.25]]\n"
     ]
    }
   ],
   "source": [
    "t = RowScale(s,5,-1/4)\n",
    "print(t)"
   ]
  },
  {
   "cell_type": "code",
   "execution_count": 32,
   "metadata": {
    "metadata": {}
   },
   "outputs": [
    {
     "name": "stdout",
     "output_type": "stream",
     "text": [
      "[[ 1.    0.    2.    1.    0.    0.   -0.75 -0.75  0.    2.75  0.    0.25]\n",
      " [ 0.    1.   -1.   -1.   -1.   -1.    0.    0.    0.   -1.    1.   -1.  ]\n",
      " [ 0.    0.    3.    4.    2.    2.    1.   -1.    1.    1.   -1.    1.  ]\n",
      " [ 0.    0.    0.    1.    0.    1.    1.    0.    0.   -1.    0.    0.  ]\n",
      " [ 0.    0.    0.    0.    2.    2.   -1.    1.    0.    3.   -2.    1.  ]\n",
      " [-0.   -0.   -0.   -0.   -0.    1.   -0.75  0.25 -0.    2.75 -1.    0.25]]\n"
     ]
    }
   ],
   "source": [
    "u = RowAdd(t,5,0,1)\n",
    "print(u)"
   ]
  },
  {
   "cell_type": "code",
   "execution_count": 33,
   "metadata": {
    "metadata": {}
   },
   "outputs": [
    {
     "name": "stdout",
     "output_type": "stream",
     "text": [
      "[[ 1.    0.    2.    1.    0.    0.   -0.75 -0.75  0.    2.75  0.    0.25]\n",
      " [ 0.    1.   -1.   -1.   -1.   -1.    0.    0.    0.   -1.    1.   -1.  ]\n",
      " [ 0.    0.    3.    4.    2.    2.    1.   -1.    1.    1.   -1.    1.  ]\n",
      " [ 0.    0.    0.    1.    0.    0.    1.75 -0.25  0.   -3.75  1.   -0.25]\n",
      " [ 0.    0.    0.    0.    2.    2.   -1.    1.    0.    3.   -2.    1.  ]\n",
      " [-0.   -0.   -0.   -0.   -0.    1.   -0.75  0.25 -0.    2.75 -1.    0.25]]\n"
     ]
    }
   ],
   "source": [
    "v = RowAdd(u,5,3,-1)\n",
    "print(v)"
   ]
  },
  {
   "cell_type": "code",
   "execution_count": 34,
   "metadata": {
    "metadata": {}
   },
   "outputs": [
    {
     "name": "stdout",
     "output_type": "stream",
     "text": [
      "[[ 1.    0.    2.    1.    0.    0.   -0.75 -0.75  0.    2.75  0.    0.25]\n",
      " [ 0.    1.   -1.   -1.   -1.   -1.    0.    0.    0.   -1.    1.   -1.  ]\n",
      " [ 0.    0.    3.    4.    0.    0.    2.   -2.    1.   -2.    1.    0.  ]\n",
      " [ 0.    0.    0.    1.    0.    0.    1.75 -0.25  0.   -3.75  1.   -0.25]\n",
      " [ 0.    0.    0.    0.    2.    2.   -1.    1.    0.    3.   -2.    1.  ]\n",
      " [-0.   -0.   -0.   -0.   -0.    1.   -0.75  0.25 -0.    2.75 -1.    0.25]]\n"
     ]
    }
   ],
   "source": [
    "w = RowAdd(v,4,2,-1)\n",
    "print(w)"
   ]
  },
  {
   "cell_type": "code",
   "execution_count": 35,
   "metadata": {
    "metadata": {}
   },
   "outputs": [
    {
     "name": "stdout",
     "output_type": "stream",
     "text": [
      "[[ 1.    0.    2.    1.    0.    0.   -0.75 -0.75  0.    2.75  0.    0.25]\n",
      " [ 0.    1.   -1.   -1.   -1.    0.   -0.75  0.25  0.    1.75  0.   -0.75]\n",
      " [ 0.    0.    3.    4.    0.    0.    2.   -2.    1.   -2.    1.    0.  ]\n",
      " [ 0.    0.    0.    1.    0.    0.    1.75 -0.25  0.   -3.75  1.   -0.25]\n",
      " [ 0.    0.    0.    0.    2.    2.   -1.    1.    0.    3.   -2.    1.  ]\n",
      " [-0.   -0.   -0.   -0.   -0.    1.   -0.75  0.25 -0.    2.75 -1.    0.25]]\n"
     ]
    }
   ],
   "source": [
    "x = RowAdd(w,5,1,1)\n",
    "print(x)"
   ]
  },
  {
   "cell_type": "code",
   "execution_count": 36,
   "metadata": {
    "metadata": {}
   },
   "outputs": [
    {
     "name": "stdout",
     "output_type": "stream",
     "text": [
      "[[ 1.    0.    2.    1.    0.    0.   -0.75 -0.75  0.    2.75  0.    0.25]\n",
      " [ 0.    1.   -1.    0.   -1.    0.    1.    0.    0.   -2.    1.   -1.  ]\n",
      " [ 0.    0.    3.    4.    0.    0.    2.   -2.    1.   -2.    1.    0.  ]\n",
      " [ 0.    0.    0.    1.    0.    0.    1.75 -0.25  0.   -3.75  1.   -0.25]\n",
      " [ 0.    0.    0.    0.    2.    2.   -1.    1.    0.    3.   -2.    1.  ]\n",
      " [-0.   -0.   -0.   -0.   -0.    1.   -0.75  0.25 -0.    2.75 -1.    0.25]]\n"
     ]
    }
   ],
   "source": [
    "y = RowAdd(x,3,1,1)\n",
    "print(y)"
   ]
  },
  {
   "cell_type": "code",
   "execution_count": 37,
   "metadata": {
    "metadata": {}
   },
   "outputs": [
    {
     "name": "stdout",
     "output_type": "stream",
     "text": [
      "[[ 1.    0.    2.    1.    0.    0.   -0.75 -0.75  0.    2.75  0.    0.25]\n",
      " [ 0.    1.   -1.    0.   -1.    0.    1.    0.    0.   -2.    1.   -1.  ]\n",
      " [ 0.    0.    3.    0.    0.    0.   -5.   -1.    1.   13.   -3.    1.  ]\n",
      " [ 0.    0.    0.    1.    0.    0.    1.75 -0.25  0.   -3.75  1.   -0.25]\n",
      " [ 0.    0.    0.    0.    2.    2.   -1.    1.    0.    3.   -2.    1.  ]\n",
      " [-0.   -0.   -0.   -0.   -0.    1.   -0.75  0.25 -0.    2.75 -1.    0.25]]\n"
     ]
    }
   ],
   "source": [
    "z = RowAdd(y,3,2,-4)\n",
    "print(z)"
   ]
  },
  {
   "cell_type": "code",
   "execution_count": 38,
   "metadata": {
    "metadata": {}
   },
   "outputs": [
    {
     "name": "stdout",
     "output_type": "stream",
     "text": [
      "[[ 1.    0.    2.    0.    0.    0.   -2.5  -0.5   0.    6.5  -1.    0.5 ]\n",
      " [ 0.    1.   -1.    0.   -1.    0.    1.    0.    0.   -2.    1.   -1.  ]\n",
      " [ 0.    0.    3.    0.    0.    0.   -5.   -1.    1.   13.   -3.    1.  ]\n",
      " [ 0.    0.    0.    1.    0.    0.    1.75 -0.25  0.   -3.75  1.   -0.25]\n",
      " [ 0.    0.    0.    0.    2.    2.   -1.    1.    0.    3.   -2.    1.  ]\n",
      " [-0.   -0.   -0.   -0.   -0.    1.   -0.75  0.25 -0.    2.75 -1.    0.25]]\n"
     ]
    }
   ],
   "source": [
    "a = RowAdd(z,3,0,-1)\n",
    "print(a)"
   ]
  },
  {
   "cell_type": "code",
   "execution_count": 39,
   "metadata": {
    "metadata": {}
   },
   "outputs": [
    {
     "name": "stdout",
     "output_type": "stream",
     "text": [
      "[[ 1.    0.    2.    0.    0.    0.   -2.5  -0.5   0.    6.5  -1.    0.5 ]\n",
      " [ 0.    1.   -1.    0.   -1.    0.    1.    0.    0.   -2.    1.   -1.  ]\n",
      " [ 0.    0.    3.    0.    0.    0.   -5.   -1.    1.   13.   -3.    1.  ]\n",
      " [ 0.    0.    0.    1.    0.    0.    1.75 -0.25  0.   -3.75  1.   -0.25]\n",
      " [ 0.    0.    0.    0.    2.    0.    0.5   0.5   0.   -2.5   0.    0.5 ]\n",
      " [-0.   -0.   -0.   -0.   -0.    1.   -0.75  0.25 -0.    2.75 -1.    0.25]]\n"
     ]
    }
   ],
   "source": [
    "b = RowAdd(a,5,4,-2)\n",
    "print(b)"
   ]
  },
  {
   "cell_type": "code",
   "execution_count": 40,
   "metadata": {
    "metadata": {}
   },
   "outputs": [
    {
     "name": "stdout",
     "output_type": "stream",
     "text": [
      "[[ 1.    0.    2.    0.    0.    0.   -2.5  -0.5   0.    6.5  -1.    0.5 ]\n",
      " [ 0.    1.   -1.    0.   -1.    0.    1.    0.    0.   -2.    1.   -1.  ]\n",
      " [ 0.    0.    3.    0.    0.    0.   -5.   -1.    1.   13.   -3.    1.  ]\n",
      " [ 0.    0.    0.    1.    0.    0.    1.75 -0.25  0.   -3.75  1.   -0.25]\n",
      " [ 0.    0.    0.    0.    1.    0.    0.25  0.25  0.   -1.25  0.    0.25]\n",
      " [-0.   -0.   -0.   -0.   -0.    1.   -0.75  0.25 -0.    2.75 -1.    0.25]]\n"
     ]
    }
   ],
   "source": [
    "c = RowScale(b,4,1/2)\n",
    "print(c)"
   ]
  },
  {
   "cell_type": "code",
   "execution_count": 41,
   "metadata": {
    "metadata": {}
   },
   "outputs": [
    {
     "name": "stdout",
     "output_type": "stream",
     "text": [
      "[[ 1.    0.    2.    0.    0.    0.   -2.5  -0.5   0.    6.5  -1.    0.5 ]\n",
      " [ 0.    1.   -1.    0.    0.    0.    1.25  0.25  0.   -3.25  1.   -0.75]\n",
      " [ 0.    0.    3.    0.    0.    0.   -5.   -1.    1.   13.   -3.    1.  ]\n",
      " [ 0.    0.    0.    1.    0.    0.    1.75 -0.25  0.   -3.75  1.   -0.25]\n",
      " [ 0.    0.    0.    0.    1.    0.    0.25  0.25  0.   -1.25  0.    0.25]\n",
      " [-0.   -0.   -0.   -0.   -0.    1.   -0.75  0.25 -0.    2.75 -1.    0.25]]\n"
     ]
    }
   ],
   "source": [
    "d = RowAdd(c,4,1,1)\n",
    "print(d)"
   ]
  },
  {
   "cell_type": "code",
   "execution_count": 42,
   "metadata": {
    "metadata": {}
   },
   "outputs": [
    {
     "name": "stdout",
     "output_type": "stream",
     "text": [
      "[[ 1.    2.    0.    0.    0.    0.    0.    0.    0.    0.    1.   -1.  ]\n",
      " [ 0.    1.   -1.    0.    0.    0.    1.25  0.25  0.   -3.25  1.   -0.75]\n",
      " [ 0.    0.    3.    0.    0.    0.   -5.   -1.    1.   13.   -3.    1.  ]\n",
      " [ 0.    0.    0.    1.    0.    0.    1.75 -0.25  0.   -3.75  1.   -0.25]\n",
      " [ 0.    0.    0.    0.    1.    0.    0.25  0.25  0.   -1.25  0.    0.25]\n",
      " [-0.   -0.   -0.   -0.   -0.    1.   -0.75  0.25 -0.    2.75 -1.    0.25]]\n"
     ]
    }
   ],
   "source": [
    "e = RowAdd(d,1,0,2)\n",
    "print(e)"
   ]
  },
  {
   "cell_type": "code",
   "execution_count": 43,
   "metadata": {
    "metadata": {}
   },
   "outputs": [
    {
     "name": "stdout",
     "output_type": "stream",
     "text": [
      "[[ 1.    0.    2.    0.    0.    0.   -2.5  -0.5   0.    6.5  -1.    0.5 ]\n",
      " [ 0.    1.   -1.    0.    0.    0.    1.25  0.25  0.   -3.25  1.   -0.75]\n",
      " [ 0.    0.    3.    0.    0.    0.   -5.   -1.    1.   13.   -3.    1.  ]\n",
      " [ 0.    0.    0.    1.    0.    0.    1.75 -0.25  0.   -3.75  1.   -0.25]\n",
      " [ 0.    0.    0.    0.    1.    0.    0.25  0.25  0.   -1.25  0.    0.25]\n",
      " [-0.   -0.   -0.   -0.   -0.    1.   -0.75  0.25 -0.    2.75 -1.    0.25]]\n"
     ]
    }
   ],
   "source": [
    "f = RowAdd(e,1,0,-2)\n",
    "print(f)"
   ]
  },
  {
   "cell_type": "code",
   "execution_count": 44,
   "metadata": {
    "metadata": {}
   },
   "outputs": [
    {
     "name": "stdout",
     "output_type": "stream",
     "text": [
      "[[ 1.    0.   -1.    0.    0.    0.    2.5   0.5  -1.   -6.5   2.   -0.5 ]\n",
      " [ 0.    1.   -1.    0.    0.    0.    1.25  0.25  0.   -3.25  1.   -0.75]\n",
      " [ 0.    0.    3.    0.    0.    0.   -5.   -1.    1.   13.   -3.    1.  ]\n",
      " [ 0.    0.    0.    1.    0.    0.    1.75 -0.25  0.   -3.75  1.   -0.25]\n",
      " [ 0.    0.    0.    0.    1.    0.    0.25  0.25  0.   -1.25  0.    0.25]\n",
      " [-0.   -0.   -0.   -0.   -0.    1.   -0.75  0.25 -0.    2.75 -1.    0.25]]\n"
     ]
    }
   ],
   "source": [
    "g = RowAdd(f,2,0,-1)\n",
    "print(g)"
   ]
  },
  {
   "cell_type": "code",
   "execution_count": 45,
   "metadata": {
    "metadata": {}
   },
   "outputs": [
    {
     "name": "stdout",
     "output_type": "stream",
     "text": [
      "[[ 1.    0.   -1.    0.    0.    0.    2.5   0.5  -1.   -6.5   2.   -0.5 ]\n",
      " [-1.    1.    0.    0.    0.    0.   -1.25 -0.25  1.    3.25 -1.   -0.25]\n",
      " [ 0.    0.    3.    0.    0.    0.   -5.   -1.    1.   13.   -3.    1.  ]\n",
      " [ 0.    0.    0.    1.    0.    0.    1.75 -0.25  0.   -3.75  1.   -0.25]\n",
      " [ 0.    0.    0.    0.    1.    0.    0.25  0.25  0.   -1.25  0.    0.25]\n",
      " [-0.   -0.   -0.   -0.   -0.    1.   -0.75  0.25 -0.    2.75 -1.    0.25]]\n"
     ]
    }
   ],
   "source": [
    "h = RowAdd(g,0,1,-1)\n",
    "print(h)"
   ]
  },
  {
   "cell_type": "code",
   "execution_count": 46,
   "metadata": {
    "metadata": {}
   },
   "outputs": [
    {
     "name": "stdout",
     "output_type": "stream",
     "text": [
      "[[ 1.          0.         -1.          0.          0.          0.\n",
      "   2.5         0.5        -1.         -6.5         2.         -0.5       ]\n",
      " [-1.          1.          0.          0.          0.          0.\n",
      "  -1.25       -0.25        1.          3.25       -1.         -0.25      ]\n",
      " [ 0.          0.          1.          0.          0.          0.\n",
      "  -1.66666667 -0.33333333  0.33333333  4.33333333 -1.          0.33333333]\n",
      " [ 0.          0.          0.          1.          0.          0.\n",
      "   1.75       -0.25        0.         -3.75        1.         -0.25      ]\n",
      " [ 0.          0.          0.          0.          1.          0.\n",
      "   0.25        0.25        0.         -1.25        0.          0.25      ]\n",
      " [-0.         -0.         -0.         -0.         -0.          1.\n",
      "  -0.75        0.25       -0.          2.75       -1.          0.25      ]]\n"
     ]
    }
   ],
   "source": [
    "i = RowScale(h,2,1/3)\n",
    "print(i)"
   ]
  },
  {
   "cell_type": "code",
   "execution_count": 47,
   "metadata": {
    "metadata": {}
   },
   "outputs": [
    {
     "name": "stdout",
     "output_type": "stream",
     "text": [
      "[[ 1.          0.          0.          0.          0.          0.\n",
      "   0.83333333  0.16666667 -0.66666667 -2.16666667  1.         -0.16666667]\n",
      " [-1.          1.          0.          0.          0.          0.\n",
      "  -1.25       -0.25        1.          3.25       -1.         -0.25      ]\n",
      " [ 0.          0.          1.          0.          0.          0.\n",
      "  -1.66666667 -0.33333333  0.33333333  4.33333333 -1.          0.33333333]\n",
      " [ 0.          0.          0.          1.          0.          0.\n",
      "   1.75       -0.25        0.         -3.75        1.         -0.25      ]\n",
      " [ 0.          0.          0.          0.          1.          0.\n",
      "   0.25        0.25        0.         -1.25        0.          0.25      ]\n",
      " [-0.         -0.         -0.         -0.         -0.          1.\n",
      "  -0.75        0.25       -0.          2.75       -1.          0.25      ]]\n"
     ]
    }
   ],
   "source": [
    "j = RowAdd(i,2,0,1)\n",
    "print(j)"
   ]
  },
  {
   "cell_type": "code",
   "execution_count": 48,
   "metadata": {
    "metadata": {}
   },
   "outputs": [
    {
     "name": "stdout",
     "output_type": "stream",
     "text": [
      "[[ 1.          0.          0.          0.          0.          0.\n",
      "   0.83333333  0.16666667 -0.66666667 -2.16666667  1.         -0.16666667]\n",
      " [ 0.          1.          0.          0.          0.          0.\n",
      "  -0.41666667 -0.08333333  0.33333333  1.08333333  0.         -0.41666667]\n",
      " [ 0.          0.          1.          0.          0.          0.\n",
      "  -1.66666667 -0.33333333  0.33333333  4.33333333 -1.          0.33333333]\n",
      " [ 0.          0.          0.          1.          0.          0.\n",
      "   1.75       -0.25        0.         -3.75        1.         -0.25      ]\n",
      " [ 0.          0.          0.          0.          1.          0.\n",
      "   0.25        0.25        0.         -1.25        0.          0.25      ]\n",
      " [-0.         -0.         -0.         -0.         -0.          1.\n",
      "  -0.75        0.25       -0.          2.75       -1.          0.25      ]]\n"
     ]
    }
   ],
   "source": [
    "k = RowAdd(j,0,1,1)\n",
    "print(k)"
   ]
  },
  {
   "cell_type": "code",
   "execution_count": 49,
   "metadata": {
    "metadata": {}
   },
   "outputs": [
    {
     "name": "stdout",
     "output_type": "stream",
     "text": [
      "[[1 1 1 2 1 2]\n",
      " [2 3 1 1 4 2]\n",
      " [1 3 2 2 4 1]\n",
      " [1 1 1 1 1 1]\n",
      " [3 3 3 2 4 1]\n",
      " [2 1 3 2 4 1]]\n"
     ]
    }
   ],
   "source": [
    "matrik_awal = np.array([[1,1,1,2,1,2],[2,3,1,1,4,2],[1,3,2,2,4,1],[1,1,1,1,1,1],[3,3,3,2,4,1],[2,1,3,2,4,1]])\n",
    "print(matrik_awal)"
   ]
  },
  {
   "cell_type": "code",
   "execution_count": 50,
   "metadata": {
    "metadata": {}
   },
   "outputs": [
    {
     "name": "stdout",
     "output_type": "stream",
     "text": [
      "Ini Invers: \n",
      "[[ 0.83333333  0.16666667 -0.66666667 -2.16666667  1.         -0.16666667]\n",
      " [-0.41666667 -0.08333333  0.33333333  1.08333333  0.         -0.41666667]\n",
      " [-1.66666667 -0.33333333  0.33333333  4.33333333 -1.          0.33333333]\n",
      " [ 1.75       -0.25        0.         -3.75        1.         -0.25      ]\n",
      " [ 0.25        0.25        0.         -1.25        0.          0.25      ]\n",
      " [-0.75        0.25        0.          2.75       -1.          0.25      ]]\n",
      "Ini Matrik Identitas: \n",
      "[[ 1. -0. -0. -0. -0. -0.]\n",
      " [-0.  1. -0. -0. -0. -0.]\n",
      " [-0. -0.  1. -0. -0. -0.]\n",
      " [ 0.  0.  0.  1.  0.  0.]\n",
      " [ 0.  0.  0.  0.  1.  0.]\n",
      " [ 0.  0.  0.  0.  0.  1.]]\n"
     ]
    }
   ],
   "source": [
    "hasil = np.array([[0.83333333,0.16666667,-0.66666667,-2.16666667,1,-0.16666667],[-0.41666667,-0.08333333,0.33333333,1.08333333,0,-0.41666667],[-1.66666667,-0.33333333,0.33333333,4.33333333,-1,0.33333333],[1.75,-0.25,0,-3.75,1,-0.25],[0.25,0.25,0,-1.25,0,0.25],[ -0.75,0.25,-0,2.75,-1,0.25]])\n",
    "print(\"Ini Invers: \")\n",
    "print(hasil)\n",
    "\n",
    "identitas1 = hasil@matrik_awal\n",
    "print(\"Ini Matrik Identitas: \")\n",
    "print(identitas1.round())"
   ]
  }
 ],
 "metadata": {
  "colab": {
   "authorship_tag": "ABX9TyNjnoI/GnwE/788+BgTbnCE",
   "provenance": []
  },
  "kernelspec": {
   "display_name": "Python 3",
   "name": "python3"
  },
  "language_info": {
   "codemirror_mode": {
    "name": "ipython",
    "version": 3
   },
   "file_extension": ".py",
   "mimetype": "text/x-python",
   "name": "python",
   "nbconvert_exporter": "python",
   "pygments_lexer": "ipython3",
   "version": "3.10.13"
  }
 },
 "nbformat": 4,
 "nbformat_minor": 0
}