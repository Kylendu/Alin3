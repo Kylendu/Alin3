{
 "cells": [
  {
   "cell_type": "markdown",
   "metadata": {},
   "source": [
    "# Determinan Matriks\n",
    "Determinant adalah suatu nilai skalar yang dapat dihitung dari suatu matriks persegi (matriks dengan jumlah baris dan kolom yang sama). Determinan memiliki beberapa aplikasi penting dalam matematika, termasuk dalam pemecahan sistem persamaan linear, analisis kebalikan matriks, dan teori eigen.\n"
   ]
  },
  {
   "cell_type": "markdown",
   "metadata": {},
   "source": [
    "### Rumus Determinan Matriks\n",
    "1. **Matriks Ordo 2x2:**\n",
    "   Jika A adalah matriks 2 X 2 dengan elemen:\n",
    "   $$\n",
    "   A = \\begin{pmatrix}\n",
    "   a & b \\\\\n",
    "   c & d\n",
    "   \\end{pmatrix}\n",
    "   $$\n",
    "   Maka determinan det(A) adalah:\n",
    "   $$\n",
    "   \\text{det}(A) = ad - bc\n",
    "   $$\n",
    "\n",
    "2. **Matriks Ordo 3x3:**\n",
    "   Jika A adalah matriks 3 X 3 dengan elemen:\n",
    "   $$\n",
    "   A = \\begin{pmatrix}\n",
    "   a & b & c \\\\\n",
    "   d & e & f \\\\\n",
    "   g & h & i\n",
    "   \\end{pmatrix}\n",
    "   $$\n",
    "   Maka determinan det (A) adalah:\n",
    "   $$\n",
    "   \\text{det}(A) = a(ei - fh) - b(di - fg) + c(dh - eg)\n",
    "   $$\n",
    "\n",
    "3. **Matriks Ordo n X n :**\n",
    "   Untuk matriks ordo lebih tinggi, determinan dapat dihitung menggunakan ekspansi kofaktor atau metode lain seperti eliminasi Gauss.\n",
    "\n"
   ]
  },
  {
   "cell_type": "markdown",
   "metadata": {},
   "source": [
    "### Pengertian Metode Kofaktor\n",
    "Metode kofaktor adalah salah satu cara untuk menghitung determinan matriks persegi berordo n X n. Metode ini melibatkan penghapusan baris dan kolom untuk menghasilkan matriks minor, kemudian mengalikan elemen-elemen tertentu dengan determinan minor tersebut dan kofaktornya, lalu menjumlahkan hasilnya.\n",
    "\n",
    "### Langkah-langkah Menghitung Determinan dengan Metode Kofaktor\n",
    "1. **Pilih baris atau kolom untuk ekspansi kofaktor.** Biasanya, baris atau kolom dengan banyak nol dipilih untuk mengurangi jumlah perhitungan.\n",
    "2. **Hitung kofaktor** untuk setiap elemen dalam baris atau kolom yang dipilih.\n",
    "   - **Minor:** Hapus baris dan kolom dari elemen yang dipilih, kemudian hitung determinan dari matriks yang tersisa.\n",
    "   - **Kofaktor:** Kalikan minor dengan (-1)^{i+j}, di mana i dan j adalah indeks baris dan kolom elemen.\n",
    "3. **Jumlahkan hasil perkalian** elemen dengan kofaktornya.\n",
    "\n",
    "### Rumus Ekspansi Kofaktor\n",
    "Untuk matriks A berordo n X n, determinan det(A) dapat dihitung sebagai:\n",
    "$$\n",
    "\\text{det}(A) = \\sum_{j=1}^{n} (-1)^{i+j} \\cdot a_{ij} \\cdot \\text{det}(M_{ij})\n",
    "$$\n",
    "\n",
    "di mana a_{ij} adalah elemen pada baris i dan kolom j , dan M_{ij} adalah minor matriks yang diperoleh dengan menghapus baris i dan kolom j.\n"
   ]
  },
  {
   "cell_type": "markdown",
   "metadata": {},
   "source": [
    "### Sifat-sifat determinan\n",
    "1. jika didalam suatu matrik memiliki 2 baris dengan nilai yang sama maka hasilnya 0\n",
    "2. jika matrik b 2* matrik a itu bisa dihitung dengan rumus 2^3(ordo)* det a = det b\n",
    "3. jika matrik b colom pertama 2* matrik a colom pertama itu akan menghasilkan 2*det a"
   ]
  },
  {
   "cell_type": "markdown",
   "metadata": {},
   "source": [
    "### Mengitung Invers Matrik 5 X 5"
   ]
  },
  {
   "cell_type": "code",
   "execution_count": 1,
   "metadata": {},
   "outputs": [
    {
     "name": "stdout",
     "output_type": "stream",
     "text": [
      "Inverse matrik 5x5:\n",
      "[[ 0.15654131  0.05143041  0.53616201 -0.82449373  0.14175506]\n",
      " [ 0.16232723 -0.16843459 -0.05593057  0.07521697  0.06075217]\n",
      " [-0.13114754 -0.01639344 -0.24590164  0.60655738 -0.16393443]\n",
      " [ 0.04982321  0.1067181   0.01253616 -0.08582449 -0.03085824]\n",
      " [-0.08003857  0.04146577 -0.14271938  0.05400193  0.12054002]]\n"
     ]
    }
   ],
   "source": [
    "import numpy as np\n",
    "\n",
    "def get_minor(matrix, i, j):\n",
    "    minor = np.delete(np.delete(matrix, i, axis=0), j, axis=1)\n",
    "    return minor\n",
    "\n",
    "def determinant(matrix):\n",
    "    if matrix.shape[0] == 1:\n",
    "        return matrix[0, 0]\n",
    "    if matrix.shape[0] == 2:\n",
    "        return matrix[0, 0] * matrix[1, 1] - matrix[0, 1] * matrix[1, 0]\n",
    "    \n",
    "    det = 0\n",
    "    for col in range(matrix.shape[1]):\n",
    "        det += ((-1) ** col) * matrix[0, col] * determinant(get_minor(matrix, 0, col))\n",
    "    return det\n",
    "\n",
    "def cofactor_matrix(matrix):\n",
    "    cofactors = np.zeros(matrix.shape)\n",
    "    for i in range(matrix.shape[0]):\n",
    "        for j in range(matrix.shape[1]):\n",
    "            minor = get_minor(matrix, i, j)\n",
    "            cofactors[i, j] = ((-1) ** (i + j)) * determinant(minor)\n",
    "    return cofactors\n",
    "\n",
    "def inverse(matrix):\n",
    "    det = determinant(matrix)\n",
    "    if det == 0:\n",
    "        raise ValueError(\"Matrix is singular and cannot be inverted.\")\n",
    "    \n",
    "    cofactors = cofactor_matrix(matrix)\n",
    "    adjugate = cofactors.T\n",
    "    inv_matrix = adjugate / det\n",
    "    return inv_matrix\n",
    "\n",
    "# Contoh penggunaan\n",
    "matrix_5x5 = np.array([\n",
    "    [2, 5, 3, 7, 1],\n",
    "    [4, 1, 6, 8, 5],\n",
    "    [7, 2, 9, 0, 3],\n",
    "    [5, 3, 8, 2, 4],\n",
    "    [6, 4, 7, 1, 9]\n",
    "])\n",
    "\n",
    "inv_matrix_5x5 = inverse(matrix_5x5)\n",
    "\n",
    "print(\"Inverse matrik 5x5:\")\n",
    "print(inv_matrix_5x5)\n"
   ]
  },
  {
   "cell_type": "markdown",
   "metadata": {},
   "source": [
    "### Mengitung Determinan Mtrik 5 x 5 Menggunakan Metode Kofaktor"
   ]
  },
  {
   "cell_type": "markdown",
   "metadata": {},
   "source": [
    "import numpy as np\n",
    "\n",
    "def cofactor(matrix, row, col):\n",
    "    # Menghapus baris 'row' dan kolom 'col' dari matriks\n",
    "    minor = np.delete(np.delete(matrix, row, axis=0), col, axis=1)\n",
    "    return ((-1) ** (row + col)) * determinant(minor)\n",
    "\n",
    "def determinant(matrix):\n",
    "    # Basis: jika matriks 1x1\n",
    "    if matrix.shape[0] == 1:\n",
    "        return matrix[0, 0]\n",
    "    \n",
    "    # Basis: jika matriks 2x2\n",
    "    if matrix.shape[0] == 2:\n",
    "        return matrix[0, 0] * matrix[1, 1] - matrix[0, 1] * matrix[1, 0]\n",
    "    \n",
    "    det = 0\n",
    "    # Ekspansi kofaktor pada baris pertama\n",
    "    for col in range(matrix.shape[1]):\n",
    "        det += matrix[0, col] * cofactor(matrix, 0, col)\n",
    "    return det\n",
    "\n",
    "# Contoh penggunaan\n",
    "matrix_5x5 = np.array([\n",
    "    [2, 5, 3, 7, 1],\n",
    "    [4, 1, 6, 8, 5],\n",
    "    [7, 2, 9, 0, 3],\n",
    "    [5, 3, 8, 2, 4],\n",
    "    [6, 4, 7, 1, 9]\n",
    "])\n",
    "\n",
    "det_5x5 = determinant(matrix_5x5)\n",
    "\n",
    "print(f\"Determinan menggunakan metode kofaktor: {det_5x5}\")\n"
   ]
  },
  {
   "cell_type": "code",
   "execution_count": 2,
   "metadata": {},
   "outputs": [
    {
     "name": "stdout",
     "output_type": "stream",
     "text": [
      "#Determinan matrik identitas adalah 1.0\n",
      "jika matrik b 2* matrik a itu bisa dihitung dengan rumus 2^3(ordo)* det a = -19.999999999999996\n",
      "Jika salah satu baris di kali 2 maka hasilnya -10.0\n",
      "Jika colom dikalikan dengan 2 maka hasilnya -10.0\n",
      "Matrik D -3.0\n",
      "jika Matrik D barisnya di tukar 3.0\n",
      "determinan matrik f adalah 0.0\n",
      "determinan matrik g adalah 0.0\n",
      "determinan matrik h adalah 24.000000000000014\n",
      "ini determinan matrik segitiga atas 2.0\n",
      "ini determinan matrik segitiga bawah 2.0\n"
     ]
    }
   ],
   "source": [
    "import numpy as np\n",
    "\n",
    "#fungsi mencari determinan\n",
    "def det(matriks):\n",
    "    return np.linalg.det(matriks)\n",
    "\n",
    "x = np.array([[1,0],[0,1]]) #Determinan matrik identitas adalah 1\n",
    "c = np.array([[1,0,0],[0,1,0],[0,0,1]])\n",
    "print(f\"#Determinan matrik identitas adalah {det(x)}\")\n",
    "a = np.array([[3,4],[2,1]]) #-5\n",
    "b = np.array([[6,8],[4,2]]) #-20\n",
    "print(f\"jika matrik b 2* matrik a itu bisa dihitung dengan rumus 2^3(ordo)* det a = {det(b)}\")\n",
    "i = np.array([[6,8],[2,1]])\n",
    "print('Jika salah satu baris di kali 2 maka hasilnya', det(i).round())\n",
    "j = np.array([[6,4],[4,1]])\n",
    "print('Jika colom dikalikan dengan 2 maka hasilnya', det(j).round())\n",
    "d = np.array([[1,2,1],[3,1,2],[2,1,2]])\n",
    "print(f\"Matrik D {det(d).round()}\")\n",
    "e = np.array([[3,1,2],[1,2,1],[2,1,2]])\n",
    "print(f'jika Matrik D barisnya di tukar {det(e).round()}')\n",
    "\n",
    "f = np.array([[1,2,1],[2,4,2],[2,1,2]])\n",
    "print('determinan matrik f adalah', det(f))\n",
    "g = np.array([[1,2,1],[2,4,2],[2,4,3]]) \n",
    "print('determinan matrik g adalah', det(g))\n",
    "h = np.array([[6,2,4],[2,4,2],[4,2,4]]) \n",
    "print('determinan matrik h adalah', det(h))\n",
    "\n",
    "k = np.array([[4,1],[2,1]]) \n",
    "l = np.array([[7,5],[2,1]])\n",
    "\n",
    "# Matrik segitiga atas\n",
    "m = np.array([[1,3,2],[0,2,2],[0,0,1]])\n",
    "print(\"ini determinan matrik segitiga atas\",det(m))\n",
    "# Matrik segitiga bawah\n",
    "n = np.array([[1,0,0],[1,2,0],[1,2,1]])\n",
    "print(\"ini determinan matrik segitiga bawah\",det(n))\n"
   ]
  }
 ],
 "metadata": {
  "kernelspec": {
   "display_name": "Python 3",
   "language": "python",
   "name": "python3"
  },
  "language_info": {
   "codemirror_mode": {
    "name": "ipython",
    "version": 3
   },
   "file_extension": ".py",
   "mimetype": "text/x-python",
   "name": "python",
   "nbconvert_exporter": "python",
   "pygments_lexer": "ipython3",
   "version": "3.10.13"
  }
 },
 "nbformat": 4,
 "nbformat_minor": 2
}