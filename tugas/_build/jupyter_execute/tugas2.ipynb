{
 "cells": [
  {
   "cell_type": "markdown",
   "metadata": {
    "id": "DgyzCi7b27Y4"
   },
   "source": [
    "# Aljabar Matrik\n",
    "Tidak mengerjakan tidak boleh masuk\n",
    "\n",
    "- Berikan penjelasan tentang apa itu matrik\n",
    "- Oprasi Matrik (penjumlahan, perkalian, pengurangan, transpose matrik)\n",
    "- Buat Program untuk mengalikan matrik A dan B\n",
    "\n"
   ]
  },
  {
   "cell_type": "markdown",
   "metadata": {
    "id": "0RDRZKYtbyqd"
   },
   "source": [
    "## Definisi Matrik\n",
    "\n",
    "### 1. Penjelasan tentang matrik :\n",
    "Matriks adalah sekumpulan bilangan yang disusun berdasarkan baris dan kolom, serta ditempatkan di dalam tanda kurung.\n",
    "Contoh: \n",
    "\n",
    "$$A = \\begin{bmatrix} \n",
    "3 & 1 & 0 \\\\ \n",
    "5 & 2 & 1 \\\\ \n",
    "0 & 2 & 3\n",
    "\\end{bmatrix}$$\n",
    "\n",
    "$$c = \\begin{bmatrix} \n",
    "1 & 2  \\\\\n",
    "3 & 4  \\\\\n",
    "1 & 0\n",
    "\\end{bmatrix}$$\n",
    "\n",
    "\n",
    "### 2. Jenis-Jenis Matrik :\n",
    "Jenis-jenis matrik yaitu Matrik nol, matrik diagonal, matrik skalar, matrik simetris, matrik identitas, matrik segitiga atas, matrik segitiga bawah, matrik transpose.\n",
    "\n",
    "a. Matrik Nol adalah matrik yang semua elemennya penyusunnya nol:\n",
    "\n",
    "\n",
    "$$I = \\begin{bmatrix}\n",
    "0 & 0 & 0\\\\\n",
    "0 & 0 & 0 \\\\\n",
    "0 & 0 & 0\n",
    "\\end{bmatrix}$$\n",
    "\n",
    "b. Matrik Diagonal adalah suatu matrik yang dimana elemen-elemen diagonalnya mempunyai nilai tidal sama dengan nol dan elemen-elemen selain diagonal bernilai nol:\n",
    "\n",
    "\n",
    "$$A = \\begin{bmatrix}\n",
    "1 & 0 & 0 \\\\\n",
    "0 & 2 & 0 \\\\\n",
    "0 & 0 & 3\n",
    "\\end{bmatrix}$$\n",
    "\n",
    "c. Matrik Skalar adalah matrik yang dimana elemen-elemen diagonalnya bernilai sama dan elemen-elemen selain diagonal bernilai nol:\n",
    "\n",
    "$$A = \\begin{bmatrix}\n",
    "3 & 0 & 0 \\\\\n",
    "0 & 3 & 0 \\\\\n",
    "0 & 0 & 3\n",
    "\\end{bmatrix}$$\n",
    "\n",
    "d. Matriks simetris adalah suatu matrik yang jika elemen-elemen matriks A yang terletak pada baris dan kolom yang sama memiliki nilai yang sama dengan elemen-elemen matriks A yang terletak pada baris dan kolom yang berlawanan: \n",
    "\n",
    "$$A = \\begin{bmatrix}\n",
    "3 & 1 & 2 \\\\\n",
    "1 & 4 & 0 \\\\\n",
    "2 & 0 & 3\n",
    "\\end{bmatrix}$$\n",
    "\n",
    "e. Matrik Identitas adalah suatu matrik yang elemen-elemen diagonalnya mempunyai nilai 1, sedangkan selain elemen pada diagonal bernilai nol:\n",
    "\n",
    "$$A = \\begin{bmatrix}\n",
    "1 & 0 & 0 \\\\\n",
    "0 & 1 & 0 \\\\\n",
    "0 & 0 & 1\n",
    "\\end{bmatrix}$$\n",
    "\n",
    "f. Matrik Segitiga Atas adalah suatu matrik yang elemen-elemennya dibawah diagonal adalah nol:\n",
    "\n",
    "$$A = \\begin{bmatrix}\n",
    "-2 & 6 & 1 \\\\\n",
    "0 & 2 & 3 \\\\\n",
    "0 & 0 & -2\n",
    "\\end{bmatrix}$$\n",
    "\n",
    "g. Matrik Segitiga Bawah adalah suatu matrik yang elemen-elemennya diatas diagonal adalah nol:\n",
    "\n",
    "$$A = \\begin{bmatrix}\n",
    "-2 & 0 & 0 \\\\\n",
    "3 & -2 & 0 \n",
    "\\end{bmatrix}$$\n",
    "\n",
    "h. Matrik Transpose merupakan matrik yang diperoleh dari memindahkan elemen-elemen baris menjadi kolom atau sebaliknya:\\\n",
    "Selelum Transpose:\n",
    "\n",
    "\n",
    "$$A = \\begin{bmatrix}\n",
    "1 & 2 & 3 \\\\ \n",
    "4 & 5 & 6\n",
    "\\end{bmatrix}$$\n",
    "\n",
    "Transpose:\n",
    "\n",
    "$$A^T = \\begin{bmatrix} \n",
    "1 & 4  \\\\\n",
    "2 & 5  \\\\\n",
    "3 & 6\n",
    "\\end{bmatrix}$$"
   ]
  },
  {
   "cell_type": "markdown",
   "metadata": {},
   "source": [
    "### 3. Penjelasan NumPy\n",
    "NumPy (Numerical Python) adalah library dalam bahasa pemrograman Python yang digunakan untuk memanipulasi dan meanalisis data numerik. Numpy menyediakan fungsi yang siap pakai untuk memudahkan melakukan perhitungan saintifik seperti matriks, aljabar,dan statistik."
   ]
  },
  {
   "cell_type": "code",
   "execution_count": 1,
   "metadata": {
    "id": "bPyyqoJCDf7U"
   },
   "outputs": [],
   "source": [
    "import numpy as np"
   ]
  },
  {
   "cell_type": "markdown",
   "metadata": {},
   "source": [
    "### 4.  Operasi Matrik\n",
    "A. Penjumlaan\\\n",
    "Suatu matrik A dan matrik B dapat dijumlahkan apabila matrik A dan Matrik B mempunyai ordo yang sama. Hasil penjumlahannya berupa matrik C dengan ordo yang sama dengan matrik A dan B.\n",
    "1. Sifat komutatif\n",
    "Pada sifat ini berlaku A + B = B + A.\n",
    "2. Sifat asosiatif\n",
    "Pada sifat ini berlaku (A + B) + C = A +(B + C)\n",
    "3. Matriks nol\n",
    "Pada sifat ini berlaku A + 0 = A\n",
    "4. Jika dijumlahkan dengan lawannya akan menghasilkan matriks nol, yaitu A + (-A) = 0."
   ]
  },
  {
   "cell_type": "code",
   "execution_count": 2,
   "metadata": {
    "colab": {
     "base_uri": "https://localhost:8080/"
    },
    "executionInfo": {
     "elapsed": 373,
     "status": "ok",
     "timestamp": 1710721882751,
     "user": {
      "displayName": "23-009 RIZAL FADILLAH",
      "userId": "10962448362425171449"
     },
     "user_tz": -420
    },
    "id": "ev8T5b9I79_T",
    "outputId": "6439812d-609d-4f24-e969-81f845205184"
   },
   "outputs": [
    {
     "name": "stdout",
     "output_type": "stream",
     "text": [
      "Ini Matrik a: \n",
      "[[ 5  8  2]\n",
      " [ 4  1 -4]]\n",
      "\n",
      "Ini Matrik b: \n",
      "[[ 9 -4  2]\n",
      " [-2 -4  5]]\n",
      "\n",
      "Hasil a + b: \n",
      "[[14  4  4]\n",
      " [ 2 -3  1]]\n"
     ]
    }
   ],
   "source": [
    "a = np.array(([5,8,2],[4,1,-4]))\n",
    "b = np.array(([9,-4,2],[-2,-4,5]))\n",
    "\n",
    "print('Ini Matrik a: ')\n",
    "print(a)\n",
    "print()\n",
    "print('Ini Matrik b: ')\n",
    "print(b)\n",
    "print()\n",
    "print('Hasil a + b: ')\n",
    "print(a+b)"
   ]
  },
  {
   "cell_type": "markdown",
   "metadata": {},
   "source": [
    "B. Pengurangan\\\n",
    "Suatu matrik A dan matrik B dapat dikurangkan apabila matrik A dan Matrik B mempunyai ordo yang sama. Hasil pengurangannya berupa matrik C dengan ordo yang sama dengan matrik A dan B."
   ]
  },
  {
   "cell_type": "code",
   "execution_count": 3,
   "metadata": {
    "colab": {
     "base_uri": "https://localhost:8080/"
    },
    "executionInfo": {
     "elapsed": 1096,
     "status": "ok",
     "timestamp": 1710721887506,
     "user": {
      "displayName": "23-009 RIZAL FADILLAH",
      "userId": "10962448362425171449"
     },
     "user_tz": -420
    },
    "id": "n2GFGmr_DSkX",
    "outputId": "14360636-93f4-4287-ee49-a7829225f79b"
   },
   "outputs": [
    {
     "name": "stdout",
     "output_type": "stream",
     "text": [
      "Ini Matrik a: \n",
      "[[ 6  9  3]\n",
      " [-6  4 10]]\n",
      "\n",
      "Ini Matrik b: \n",
      "[[ 2  9  3]\n",
      " [ 4 -6 -3]]\n",
      "\n",
      "Hasil a - b: \n",
      "[[  4   0   0]\n",
      " [-10  10  13]]\n"
     ]
    }
   ],
   "source": [
    "a = np.array(([6,9,3],[-6,4,10]))\n",
    "b = np.array(([2,9,3],[4,-6,-3]))\n",
    "\n",
    "print('Ini Matrik a: ')\n",
    "print(a)\n",
    "print()\n",
    "print('Ini Matrik b: ')\n",
    "print(b)\n",
    "print()\n",
    "print('Hasil a - b: ')\n",
    "print(a-b)"
   ]
  },
  {
   "cell_type": "markdown",
   "metadata": {},
   "source": [
    "C. Perklian\\\n",
    "Suatu matrik A dan B dapat dikalikan apabila banyaknya kolom matrik A sama dengan banyaknya baris matrik B. Misal matrik A 4x3 dikalikan dengan matrik B 3x2 maka A dan matrik B dapat dikalikan, dan hasilnya adalah matrik C dengan ordo 4x2.\n",
    "1. Sifat Asosiatif\\\n",
    "(AB)C = A(BC)\n",
    "2. Sifat Distributif\\\n",
    "A(B + C) = AB + AC"
   ]
  },
  {
   "cell_type": "code",
   "execution_count": 4,
   "metadata": {
    "colab": {
     "base_uri": "https://localhost:8080/"
    },
    "executionInfo": {
     "elapsed": 534,
     "status": "ok",
     "timestamp": 1710721895611,
     "user": {
      "displayName": "23-009 RIZAL FADILLAH",
      "userId": "10962448362425171449"
     },
     "user_tz": -420
    },
    "id": "1EDN5Sb8Gl0p",
    "outputId": "e38cba2b-8a86-4956-f536-fbd68a64436d"
   },
   "outputs": [
    {
     "name": "stdout",
     "output_type": "stream",
     "text": [
      "Ini Matrik a: \n",
      "[[1 2 3]\n",
      " [4 5 6]\n",
      " [4 5 6]]\n",
      "\n",
      "Ini Matrik b: \n",
      "[[ 3  2  1]\n",
      " [-1 -2 -3]\n",
      " [ 7  5  6]]\n",
      "\n",
      "Hasil a x b: \n",
      "[[22 13 13]\n",
      " [49 28 25]\n",
      " [49 28 25]]\n"
     ]
    }
   ],
   "source": [
    "a = np.array(([1,2,3],[4,5,6],[4,5,6]))\n",
    "b = np.array(([3,2,1],[-1,-2,-3],[7,5,6]))\n",
    "\n",
    "hasil = np.dot(a,b)\n",
    "\n",
    "print('Ini Matrik a: ')\n",
    "print(a)\n",
    "print()\n",
    "print('Ini Matrik b: ')\n",
    "print(b)\n",
    "print()\n",
    "print('Hasil a x b: ')\n",
    "print(hasil)"
   ]
  },
  {
   "cell_type": "markdown",
   "metadata": {},
   "source": [
    "D. Perkalian Matrik Tanpa Numpy"
   ]
  },
  {
   "cell_type": "code",
   "execution_count": 5,
   "metadata": {
    "colab": {
     "base_uri": "https://localhost:8080/"
    },
    "executionInfo": {
     "elapsed": 395,
     "status": "ok",
     "timestamp": 1710721904175,
     "user": {
      "displayName": "23-009 RIZAL FADILLAH",
      "userId": "10962448362425171449"
     },
     "user_tz": -420
    },
    "id": "6sDgUDCg_sDZ",
    "outputId": "b0072347-6479-4cd8-b1dc-95f96d2b9b85"
   },
   "outputs": [
    {
     "name": "stdout",
     "output_type": "stream",
     "text": [
      "[[1, 2, 3], [4, 5, 6], [4, 5, 6]]\n",
      "\n",
      "[[3, 2, 1], [-1, -2, -3], [7, 5, 6]]\n",
      "\n",
      "Hasil dari perkalian math 1 dan math 2: \n",
      "[22, 13, 13]\n",
      "[49, 28, 25]\n",
      "[49, 28, 25]\n"
     ]
    }
   ],
   "source": [
    "math1 = [[1,2,3],\n",
    "         [4,5,6],\n",
    "         [4,5,6]]\n",
    "\n",
    "math2 = [[3,2,1],\n",
    "         [-1,-2,-3],\n",
    "         [7,5,6]]\n",
    "\n",
    "\n",
    "hasil = [[0,0,0],[0,0,0],[0,0,0]]\n",
    "for x in range(len(math1)): #Perulangan pertama sebanyak panjang math1\n",
    "    for y in range(len(math2[0])): #Perulangan kedua sebanyak panjang math2 index 0\n",
    "        for k in range(len(math1[0])): #Perulangan kedua sebanyak panjang math1 index 0\n",
    "            hasil[x][y]+= math1[x][k]*math2[k][y]\n",
    "\n",
    "print(math1)\n",
    "print()\n",
    "print(math2)\n",
    "print()\n",
    "print('Hasil dari perkalian math 1 dan math 2: ')\n",
    "for k in hasil:\n",
    "    print(k)"
   ]
  }
 ],
 "metadata": {
  "colab": {
   "authorship_tag": "ABX9TyPLLhzAQgBm1NOA+jR0/rbG",
   "mount_file_id": "1-Pql01AIap1usQE64TkoyVNihxD909jD",
   "provenance": []
  },
  "kernelspec": {
   "display_name": "Python 3",
   "name": "python3"
  },
  "language_info": {
   "codemirror_mode": {
    "name": "ipython",
    "version": 3
   },
   "file_extension": ".py",
   "mimetype": "text/x-python",
   "name": "python",
   "nbconvert_exporter": "python",
   "pygments_lexer": "ipython3",
   "version": "3.10.13"
  }
 },
 "nbformat": 4,
 "nbformat_minor": 0
}